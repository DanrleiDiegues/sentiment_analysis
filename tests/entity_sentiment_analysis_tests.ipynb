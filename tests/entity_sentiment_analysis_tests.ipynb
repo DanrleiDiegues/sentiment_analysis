{
 "cells": [
  {
   "cell_type": "code",
   "execution_count": 1,
   "metadata": {},
   "outputs": [
    {
     "name": "stdout",
     "output_type": "stream",
     "text": [
      "AI doesn't work in a single, unified way.  Instead, it encompasses a broad range of techniques and approaches, all aiming to create systems that can perform tasks that typically require human intelligence.  Here's a breakdown of some key concepts:\n",
      "\n",
      "**1. Data is King:**  At the heart of most AI systems is data.  AI algorithms learn from massive datasets, identifying patterns and relationships that humans might miss.  The quality, quantity, and relevance of this data are crucial to the system's success.\n",
      "\n",
      "**2. Algorithms as the Engine:**  Algorithms are the sets of rules and statistical techniques that process the data.  Different algorithms are suited for different tasks.  Some common types include:\n",
      "\n",
      "* **Machine Learning (ML):**  This is a broad category where systems learn from data without explicit programming.  Instead of being explicitly programmed, they learn patterns and make predictions based on the data they're fed.  Examples include:\n",
      "    * **Supervised Learning:** The algorithm is trained on labeled data (e.g., images labeled as \"cat\" or \"dog\").  It learns to map inputs to outputs.\n",
      "    * **Unsupervised Learning:** The algorithm is trained on unlabeled data and tries to find structure or patterns in the data (e.g., clustering similar customers together).\n",
      "    * **Reinforcement Learning:** The algorithm learns through trial and error, receiving rewards or penalties for its actions.  This is often used in robotics and game playing.\n",
      "\n",
      "* **Deep Learning (DL):**  A subfield of machine learning that uses artificial neural networks with multiple layers (hence \"deep\").  These networks can learn complex patterns from large datasets, excelling in tasks like image recognition, natural language processing, and speech recognition.\n",
      "\n",
      "* **Expert Systems:** These systems mimic the decision-making ability of a human expert in a specific domain.  They rely on a knowledge base of rules and facts.\n",
      "\n",
      "**3. Neural Networks: The Inspiration (and sometimes the mechanism):**  Neural networks are inspired by the structure and function of the human brain.  They consist of interconnected nodes (neurons) that process information.  Deep learning models rely heavily on these networks.\n",
      "\n",
      "**4. Training and Inference:**\n",
      "\n",
      "* **Training:**  This is the process of feeding data to the algorithm and adjusting its parameters to improve its performance on a specific task.  This can take significant computing power and time.\n",
      "* **Inference:**  Once trained, the AI system can use its learned knowledge to make predictions or decisions on new, unseen data.\n",
      "\n",
      "**5. Types of AI:**  AI is often categorized by its capabilities:\n",
      "\n",
      "* **Narrow or Weak AI:**  Designed for a specific task (e.g., playing chess, recommending products).  Most current AI systems fall into this category.\n",
      "* **General or Strong AI:**  Hypothetical AI with human-level intelligence and the ability to perform any intellectual task that a human being can.  This does not yet exist.\n",
      "* **Super AI:**  Hypothetical AI that surpasses human intelligence in all aspects.  This is purely speculative.\n",
      "\n",
      "\n",
      "In short, AI works by combining large amounts of data with sophisticated algorithms that learn patterns and make predictions or decisions.  The specific techniques used depend on the task and the available data.  While AI can accomplish remarkable feats, it's crucial to understand its limitations and potential biases stemming from the data it's trained on.\n",
      "\n"
     ]
    }
   ],
   "source": [
    "import google.generativeai as genai\n",
    "\n",
    "genai.configure(api_key=\"API_KEY\")\n",
    "model = genai.GenerativeModel(\"gemini-1.5-flash\")\n",
    "response = model.generate_content(\"Explain how AI works\")\n",
    "print(response.text)"
   ]
  },
  {
   "cell_type": "code",
   "execution_count": 2,
   "metadata": {},
   "outputs": [
    {
     "name": "stdout",
     "output_type": "stream",
     "text": [
      "List of models that support generateContent:\n",
      "\n",
      "models/gemini-1.0-pro-latest\n",
      "models/gemini-1.0-pro\n",
      "models/gemini-pro\n",
      "models/gemini-1.0-pro-001\n",
      "models/gemini-1.0-pro-vision-latest\n",
      "models/gemini-pro-vision\n",
      "models/gemini-1.5-pro-latest\n",
      "models/gemini-1.5-pro-001\n",
      "models/gemini-1.5-pro-002\n",
      "models/gemini-1.5-pro\n",
      "models/gemini-1.5-pro-exp-0801\n",
      "models/gemini-1.5-pro-exp-0827\n",
      "models/gemini-1.5-flash-latest\n",
      "models/gemini-1.5-flash-001\n",
      "models/gemini-1.5-flash-001-tuning\n",
      "models/gemini-1.5-flash\n",
      "models/gemini-1.5-flash-exp-0827\n",
      "models/gemini-1.5-flash-002\n",
      "models/gemini-1.5-flash-8b\n",
      "models/gemini-1.5-flash-8b-001\n",
      "models/gemini-1.5-flash-8b-latest\n",
      "models/gemini-1.5-flash-8b-exp-0827\n",
      "models/gemini-1.5-flash-8b-exp-0924\n",
      "models/gemini-2.0-flash-exp\n",
      "models/gemini-exp-1206\n",
      "models/gemini-exp-1121\n",
      "models/gemini-exp-1114\n",
      "models/gemini-2.0-flash-thinking-exp-01-21\n",
      "models/gemini-2.0-flash-thinking-exp\n",
      "models/gemini-2.0-flash-thinking-exp-1219\n",
      "models/learnlm-1.5-pro-experimental\n",
      "List of models that support embedContent:\n",
      "\n",
      "models/embedding-001\n",
      "models/text-embedding-004\n"
     ]
    }
   ],
   "source": [
    "import google.generativeai as genai\n",
    "\n",
    "print(\"List of models that support generateContent:\\n\")\n",
    "for m in genai.list_models():\n",
    "    if \"generateContent\" in m.supported_generation_methods:\n",
    "        print(m.name)\n",
    "\n",
    "print(\"List of models that support embedContent:\\n\")\n",
    "for m in genai.list_models():\n",
    "    if \"embedContent\" in m.supported_generation_methods:\n",
    "        print(m.name)"
   ]
  },
  {
   "cell_type": "code",
   "execution_count": 5,
   "metadata": {},
   "outputs": [
    {
     "name": "stdout",
     "output_type": "stream",
     "text": [
      "Text: Harry Potter is the best book. I think everyone should read it.\n",
      "Sentiment: 0.9, 1.9\n"
     ]
    }
   ],
   "source": [
    "import requests\n",
    "\n",
    "API_KEY = \"API_KEY\"\n",
    "URL = f\"https://language.googleapis.com/v1/documents:analyzeSentiment?key={API_KEY}\"\n",
    "\n",
    "#URL = f\"https://language.googleapis.com/v1/documents:analyzeSentiment?key=${API_KEY}\"\n",
    "\n",
    "Content = \"Harry Potter is the best book. I think everyone should read it.\"\n",
    "\n",
    "# The text to analyze\n",
    "data = {\n",
    "    \"document\": {\n",
    "        \"type\": \"PLAIN_TEXT\",\n",
    "        \"content\": Content\n",
    "    },\n",
    "    \"encodingType\": \"UTF8\"\n",
    "}\n",
    "\n",
    "# Make a POST request to the API\n",
    "response = requests.post(URL, json=data)\n",
    "\n",
    "# Parse the response\n",
    "if response.status_code == 200:\n",
    "    result = response.json()\n",
    "    sentiment = result['documentSentiment']\n",
    "    print(f\"Text: {Content}\")\n",
    "    print(f\"Sentiment: {sentiment['score']}, {sentiment['magnitude']}\")\n",
    "else:\n",
    "    print(f\"Error: {response.status_code}, {response.text}\")\n"
   ]
  },
  {
   "cell_type": "code",
   "execution_count": 6,
   "metadata": {},
   "outputs": [
    {
     "name": "stdout",
     "output_type": "stream",
     "text": [
      "Text: I liked the sushi but the service was terrible.\n",
      "Entity Sentiment Analysis:\n",
      "- Entity: sushi\n",
      "  Type: CONSUMER_GOOD\n",
      "  Sentiment Score: 0\n",
      "  Sentiment Magnitude: 0\n",
      "  Salience: 0.51064336\n",
      "- Entity: service\n",
      "  Type: OTHER\n",
      "  Sentiment Score: -0.7\n",
      "  Sentiment Magnitude: 0.7\n",
      "  Salience: 0.48935664\n"
     ]
    }
   ],
   "source": [
    "import requests\n",
    "\n",
    "API_KEY = \"API_KEY\"\n",
    "URL = f\"https://language.googleapis.com/v1/documents:analyzeEntitySentiment?key={API_KEY}\"\n",
    "\n",
    "COMMENTARY = \"I liked the sushi but the service was terrible.\"\n",
    "\n",
    "# The text to analyze\n",
    "data = {\n",
    "    \"document\": {\n",
    "        \"type\": \"PLAIN_TEXT\",\n",
    "        \"content\": COMMENTARY\n",
    "    },\n",
    "    \"encodingType\": \"UTF8\"\n",
    "}\n",
    "\n",
    "# Make a POST request to the API\n",
    "response = requests.post(URL, json=data)\n",
    "\n",
    "# Parse the response\n",
    "if response.status_code == 200:\n",
    "    result = response.json()\n",
    "    print(f\"Text: {COMMENTARY}\")\n",
    "    print(\"Entity Sentiment Analysis:\")\n",
    "    for entity in result.get(\"entities\", []):\n",
    "        name = entity.get(\"name\")\n",
    "        type_ = entity.get(\"type\")\n",
    "        sentiment = entity.get(\"sentiment\", {})\n",
    "        score = sentiment.get(\"score\", 0)\n",
    "        magnitude = sentiment.get(\"magnitude\", 0)\n",
    "        \n",
    "        print(f\"- Entity: {name}\")\n",
    "        print(f\"  Type: {type_}\")\n",
    "        print(f\"  Sentiment Score: {score}\")\n",
    "        print(f\"  Sentiment Magnitude: {magnitude}\")\n",
    "        print(f\"  Salience: {entity.get('salience', 0)}\")\n",
    "else:\n",
    "    print(f\"Error: {response.status_code}, {response.text}\")"
   ]
  }
 ],
 "metadata": {
  "kernelspec": {
   "display_name": "llm_env",
   "language": "python",
   "name": "python3"
  },
  "language_info": {
   "codemirror_mode": {
    "name": "ipython",
    "version": 3
   },
   "file_extension": ".py",
   "mimetype": "text/x-python",
   "name": "python",
   "nbconvert_exporter": "python",
   "pygments_lexer": "ipython3",
   "version": "3.9.21"
  }
 },
 "nbformat": 4,
 "nbformat_minor": 2
}
